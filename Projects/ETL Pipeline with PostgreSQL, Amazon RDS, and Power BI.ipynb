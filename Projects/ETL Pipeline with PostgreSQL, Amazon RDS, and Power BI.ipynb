{
 "cells": [
  {
   "cell_type": "code",
   "execution_count": 1,
   "metadata": {},
   "outputs": [],
   "source": [
    "# import libraries\n",
    "import requests\n",
    "import pandas as pd\n"
   ]
  },
  {
   "cell_type": "code",
   "execution_count": 7,
   "metadata": {},
   "outputs": [],
   "source": [
    "# extract F1 data from API\n",
    "response1 = requests.get('https://api.openf1.org/v1/drivers')\n",
    "f1_drivers_api = response1.json()\n",
    "response2 = requests.get('https://api.openf1.org/v1/meetings')\n",
    "f1_meetings_api = response2.json()\n",
    "response3 = requests.get('https://api.openf1.org/v1/weather')\n",
    "f1_weather_api = response3.json()\n",
    "\n",
    "# response3 = requests.get('https://api.openf1.org/v1/position')\n",
    "# f1_position_api = response3.json()\n"
   ]
  },
  {
   "cell_type": "code",
   "execution_count": null,
   "metadata": {},
   "outputs": [],
   "source": [
    "# convert JSON to DataFrame and then to CSV\n",
    "df_drivers = pd.DataFrame(f1_drivers_api)\n",
    "df_drivers.to_csv('f1_drivers.csv')\n",
    "df_meetings = pd.DataFrame(f1_meetings_api)\n",
    "df_meetings.to_csv('f1_meetings.csv')\n",
    "df_weather = pd.DataFrame(f1_weather_api)\n",
    "df_weather.to_csv('f1_weather.csv')\n",
    "# df_position = pd.DataFrame(f1_position_api)\n",
    "# df_position.to_csv('f1_position.csv')\n"
   ]
  },
  {
   "cell_type": "code",
   "execution_count": 5,
   "metadata": {},
   "outputs": [],
   "source": [
    "# connect to local PostgreSQL\n",
    "import psycopg2\n",
    "conn = psycopg2.connect(\n",
    "    dbname = 'f1_db',\n",
    "    user = 'postgres',\n",
    "    password = '123456Superman',\n",
    "    host = 'localhost'\n",
    ")\n",
    "cur = conn.cursor()\n"
   ]
  },
  {
   "cell_type": "code",
   "execution_count": null,
   "metadata": {},
   "outputs": [],
   "source": []
  }
 ],
 "metadata": {
  "kernelspec": {
   "display_name": ".venv",
   "language": "python",
   "name": "python3"
  },
  "language_info": {
   "codemirror_mode": {
    "name": "ipython",
    "version": 3
   },
   "file_extension": ".py",
   "mimetype": "text/x-python",
   "name": "python",
   "nbconvert_exporter": "python",
   "pygments_lexer": "ipython3",
   "version": "3.13.2"
  }
 },
 "nbformat": 4,
 "nbformat_minor": 2
}
